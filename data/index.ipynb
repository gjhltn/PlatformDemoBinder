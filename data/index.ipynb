{
 "cells": [
  {
   "cell_type": "markdown",
   "id": "ffb581e9-c85e-48b0-b070-c581386e6e85",
   "metadata": {},
   "source": [
    "# Life expectancy by local authority and sex (CSV)\n",
    "\n",
    "The life expectancy by local authority and sex dataset. Lorem ipsum dolor sit amet, consectetur adipiscing elit. Vivamus id risus ut eros fringilla semper. Vivamus tristique sem odio, eu mollis dolor congue sit amet. Morbi et justo nec mauris ultricies sagittis. Vivamus vel tempus massa, eget dictum turpis. Maecenas cursus porttitor mollis. Duis mattis lectus eget felis pulvinar dictum. Aenean libero odio, porttitor sit amet eros eu, bibendum auctor nunc. Aliquam nec dolor eget quam ultricies mollis sed ac orci. In a gravida eros, vitae posuere elit. Phasellus nec posuere ligula. Vestibulum ante ipsum primis in faucibus orci luctus et ultrices posuere cubilia curae;\n",
    "\n",
    "Licensed under the [Open Government Licence v2](https://www.nationalarchives.gov.uk/doc/open-government-licence/version/3/)"
   ]
  },
  {
   "cell_type": "code",
   "execution_count": 1,
   "id": "030892b2-a8a6-4a8d-8d19-5c31a77542c1",
   "metadata": {
    "vscode": {
     "languageId": "r"
    }
   },
   "outputs": [],
   "source": [
    "data_file_url = 'https://raw.githubusercontent.com/gjhltn/PlatformDemoBinder/main/life-expectancy.csv'"
   ]
  },
  {
   "cell_type": "code",
   "execution_count": 2,
   "id": "0353fdd0-d1d8-4e27-935e-6a83adea86e7",
   "metadata": {
    "vscode": {
     "languageId": "r"
    }
   },
   "outputs": [],
   "source": [
    "import pandas as pd\n",
    "df = pd.read_csv(data_file_url)"
   ]
  },
  {
   "cell_type": "code",
   "execution_count": 3,
   "id": "8c54577f-52b0-412f-9ddc-210af7b59655",
   "metadata": {
    "vscode": {
     "languageId": "r"
    }
   },
   "outputs": [
    {
     "data": {
      "text/html": [
       "<div>\n",
       "<style scoped>\n",
       "    .dataframe tbody tr th:only-of-type {\n",
       "        vertical-align: middle;\n",
       "    }\n",
       "\n",
       "    .dataframe tbody tr th {\n",
       "        vertical-align: top;\n",
       "    }\n",
       "\n",
       "    .dataframe thead th {\n",
       "        text-align: right;\n",
       "    }\n",
       "</style>\n",
       "<table border=\"1\" class=\"dataframe\">\n",
       "  <thead>\n",
       "    <tr style=\"text-align: right;\">\n",
       "      <th></th>\n",
       "      <th>area</th>\n",
       "      <th>period</th>\n",
       "      <th>sex</th>\n",
       "      <th>life_expectancy</th>\n",
       "    </tr>\n",
       "  </thead>\n",
       "  <tbody>\n",
       "    <tr>\n",
       "      <th>0</th>\n",
       "      <td>W06000022</td>\n",
       "      <td>2004-01-01T00:00:00/P3Y</td>\n",
       "      <td>Male</td>\n",
       "      <td>76.7</td>\n",
       "    </tr>\n",
       "    <tr>\n",
       "      <th>1</th>\n",
       "      <td>W06000022</td>\n",
       "      <td>2004-01-01T00:00:00/P3Y</td>\n",
       "      <td>Female</td>\n",
       "      <td>80.7</td>\n",
       "    </tr>\n",
       "    <tr>\n",
       "      <th>2</th>\n",
       "      <td>W06000022</td>\n",
       "      <td>2005-01-01T00:00:00/P3Y</td>\n",
       "      <td>Male</td>\n",
       "      <td>77.1</td>\n",
       "    </tr>\n",
       "    <tr>\n",
       "      <th>3</th>\n",
       "      <td>W06000022</td>\n",
       "      <td>2005-01-01T00:00:00/P3Y</td>\n",
       "      <td>Female</td>\n",
       "      <td>80.9</td>\n",
       "    </tr>\n",
       "    <tr>\n",
       "      <th>4</th>\n",
       "      <td>W06000022</td>\n",
       "      <td>2006-01-01T00:00:00/P3Y</td>\n",
       "      <td>Male</td>\n",
       "      <td>77.0</td>\n",
       "    </tr>\n",
       "  </tbody>\n",
       "</table>\n",
       "</div>"
      ],
      "text/plain": [
       "        area                   period     sex  life_expectancy\n",
       "0  W06000022  2004-01-01T00:00:00/P3Y    Male             76.7\n",
       "1  W06000022  2004-01-01T00:00:00/P3Y  Female             80.7\n",
       "2  W06000022  2005-01-01T00:00:00/P3Y    Male             77.1\n",
       "3  W06000022  2005-01-01T00:00:00/P3Y  Female             80.9\n",
       "4  W06000022  2006-01-01T00:00:00/P3Y    Male             77.0"
      ]
     },
     "execution_count": 3,
     "metadata": {},
     "output_type": "execute_result"
    }
   ],
   "source": [
    "df.head()"
   ]
  },
  {
   "cell_type": "markdown",
   "id": "5ba3b52f-3883-42a8-8eca-332f34959260",
   "metadata": {},
   "source": []
  },
  {
   "cell_type": "code",
   "execution_count": null,
   "id": "39d6874b-cc63-4054-986e-a735296db78e",
   "metadata": {
    "vscode": {
     "languageId": "r"
    }
   },
   "outputs": [],
   "source": []
  }
 ],
 "metadata": {
  "kernelspec": {
   "display_name": "Python 3 (ipykernel)",
   "language": "python",
   "name": "python3"
  },
  "language_info": {
   "codemirror_mode": {
    "name": "ipython",
    "version": 3
   },
   "file_extension": ".py",
   "mimetype": "text/x-python",
   "name": "python",
   "nbconvert_exporter": "python",
   "pygments_lexer": "ipython3",
   "version": "3.11.5"
  }
 },
 "nbformat": 4,
 "nbformat_minor": 5
}
