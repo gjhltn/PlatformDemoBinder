{
 "cells": [
  {
   "cell_type": "code",
   "execution_count": 14,
   "id": "c988a341",
   "metadata": {},
   "outputs": [
    {
     "data": {
      "text/plain": [
       "\n",
       "\n",
       "|hair_colour | value|age   |measure_type |\n",
       "|:-----------|-----:|:-----|:------------|\n",
       "|brunette    |   574|0-16  |count        |\n",
       "|brunette    |   100|16-24 |count        |\n",
       "|black       |    95|0-16  |count        |\n",
       "|black       |   544|16-24 |count        |\n",
       "|other       |    28|24-50 |count        |"
      ]
     },
     "metadata": {},
     "output_type": "display_data"
    }
   ],
   "source": [
    "library(csvwr)\n",
    "\n",
    "rootUrl <- \"https://raw.githubusercontent.com/gjhltn/PlatformDemoBinder/main/data/\"\n",
    "ds <- \"hair-colour\"\n",
    "\n",
    "csvFile <- paste(ds, \".csv\", sep = \"\")\n",
    "jsonFile <- paste(ds, \".json\", sep = \"\")\n",
    "\n",
    "csvUrl <- paste(rootUrl, csvFile, sep = \"\")\n",
    "download.file(csvUrl,csvFile)\n",
    "\n",
    "jsonUrl <- paste(rootUrl, jsonFile, sep = \"\")\n",
    "download.file(jsonUrl,jsonFile)\n",
    "\n",
    "df <- read_csvw_dataframe(csvFile, jsonFile)\n",
    "knitr::kable(df)"
   ]
  }
 ],
 "metadata": {
  "kernelspec": {
   "display_name": "R",
   "language": "R",
   "name": "ir"
  },
  "language_info": {
   "codemirror_mode": "r",
   "file_extension": ".r",
   "mimetype": "text/x-r-source",
   "name": "R",
   "pygments_lexer": "r",
   "version": "4.3.2"
  }
 },
 "nbformat": 4,
 "nbformat_minor": 5
}
