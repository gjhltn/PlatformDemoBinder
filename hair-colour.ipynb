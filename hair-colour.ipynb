{
 "cells": [
  {
   "cell_type": "markdown",
   "id": "ffb581e9-c85e-48b0-b070-c581386e6e85",
   "metadata": {},
   "source": [
    "# Hair colours\n",
    "\n",
    "Lorem ipsum dolor sit amet, consectetur adipiscing elit. Vivamus id risus ut eros fringilla semper. Vivamus tristique sem odio, eu mollis dolor congue sit amet. Morbi et justo nec mauris ultricies sagittis. Vivamus vel tempus massa, eget dictum turpis. Maecenas cursus porttitor mollis. Duis mattis lectus eget felis pulvinar dictum. Aenean libero odio, porttitor sit amet eros eu, bibendum auctor nunc. Aliquam nec dolor eget quam ultricies mollis sed ac orci. In a gravida eros, vitae posuere elit. Phasellus nec posuere ligula. Vestibulum ante ipsum primis in faucibus orci luctus et ultrices posuere cubilia curae;\n",
    "\n",
    "Licensed under the [Open Government Licence v2](https://www.nationalarchives.gov.uk/doc/open-government-licence/version/3/)"
   ]
  },
  {
   "cell_type": "code",
   "execution_count": 1,
   "id": "030892b2-a8a6-4a8d-8d19-5c31a77542c1",
   "metadata": {},
   "outputs": [],
   "source": [
    "data_file_url = 'https://raw.githubusercontent.com/gjhltn/PlatformDemoBinder/main/hair-colour.csv'"
   ]
  },
  {
   "cell_type": "code",
   "execution_count": 2,
   "id": "0353fdd0-d1d8-4e27-935e-6a83adea86e7",
   "metadata": {},
   "outputs": [],
   "source": [
    "import pandas as pd\n",
    "df = pd.read_csv(data_file_url)"
   ]
  },
  {
   "cell_type": "code",
   "execution_count": 3,
   "id": "8c54577f-52b0-412f-9ddc-210af7b59655",
   "metadata": {},
   "outputs": [
    {
     "data": {
      "text/html": [
       "<div>\n",
       "<style scoped>\n",
       "    .dataframe tbody tr th:only-of-type {\n",
       "        vertical-align: middle;\n",
       "    }\n",
       "\n",
       "    .dataframe tbody tr th {\n",
       "        vertical-align: top;\n",
       "    }\n",
       "\n",
       "    .dataframe thead th {\n",
       "        text-align: right;\n",
       "    }\n",
       "</style>\n",
       "<table border=\"1\" class=\"dataframe\">\n",
       "  <thead>\n",
       "    <tr style=\"text-align: right;\">\n",
       "      <th></th>\n",
       "      <th>hair_colour</th>\n",
       "      <th>value</th>\n",
       "      <th>age</th>\n",
       "      <th>measure_type</th>\n",
       "    </tr>\n",
       "  </thead>\n",
       "  <tbody>\n",
       "    <tr>\n",
       "      <th>0</th>\n",
       "      <td>brunette</td>\n",
       "      <td>574</td>\n",
       "      <td>0-16</td>\n",
       "      <td>count</td>\n",
       "    </tr>\n",
       "    <tr>\n",
       "      <th>1</th>\n",
       "      <td>brunette</td>\n",
       "      <td>100</td>\n",
       "      <td>16-24</td>\n",
       "      <td>count</td>\n",
       "    </tr>\n",
       "    <tr>\n",
       "      <th>2</th>\n",
       "      <td>black</td>\n",
       "      <td>95</td>\n",
       "      <td>0-16</td>\n",
       "      <td>count</td>\n",
       "    </tr>\n",
       "    <tr>\n",
       "      <th>3</th>\n",
       "      <td>black</td>\n",
       "      <td>544</td>\n",
       "      <td>16-24</td>\n",
       "      <td>count</td>\n",
       "    </tr>\n",
       "    <tr>\n",
       "      <th>4</th>\n",
       "      <td>other</td>\n",
       "      <td>28</td>\n",
       "      <td>24-50</td>\n",
       "      <td>count</td>\n",
       "    </tr>\n",
       "  </tbody>\n",
       "</table>\n",
       "</div>"
      ],
      "text/plain": [
       "  hair_colour  value    age measure_type\n",
       "0    brunette    574   0-16        count\n",
       "1    brunette    100  16-24        count\n",
       "2       black     95   0-16        count\n",
       "3       black    544  16-24        count\n",
       "4       other     28  24-50        count"
      ]
     },
     "execution_count": 3,
     "metadata": {},
     "output_type": "execute_result"
    }
   ],
   "source": [
    "df.head()"
   ]
  },
  {
   "cell_type": "markdown",
   "id": "5ba3b52f-3883-42a8-8eca-332f34959260",
   "metadata": {},
   "source": []
  },
  {
   "cell_type": "code",
   "execution_count": null,
   "id": "39d6874b-cc63-4054-986e-a735296db78e",
   "metadata": {},
   "outputs": [],
   "source": []
  }
 ],
 "metadata": {
  "kernelspec": {
   "display_name": "Python 3 (ipykernel)",
   "language": "python",
   "name": "python3"
  },
  "language_info": {
   "codemirror_mode": {
    "name": "ipython",
    "version": 3
   },
   "file_extension": ".py",
   "mimetype": "text/x-python",
   "name": "python",
   "nbconvert_exporter": "python",
   "pygments_lexer": "ipython3",
   "version": "3.11.5"
  }
 },
 "nbformat": 4,
 "nbformat_minor": 5
}
