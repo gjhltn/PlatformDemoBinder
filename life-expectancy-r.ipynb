{
 "cells": [
  {
   "cell_type": "code",
   "execution_count": 1,
   "id": "da244268",
   "metadata": {},
   "outputs": [
    {
     "data": {
      "text/plain": [
       "\n",
       "\n",
       "|area      |period                  |sex    | life_expectancy|\n",
       "|:---------|:-----------------------|:------|---------------:|\n",
       "|W06000022 |2004-01-01T00:00:00/P3Y |Male   |            76.7|\n",
       "|W06000022 |2004-01-01T00:00:00/P3Y |Female |            80.7|\n",
       "|W06000022 |2005-01-01T00:00:00/P3Y |Male   |            77.1|\n",
       "|W06000022 |2005-01-01T00:00:00/P3Y |Female |            80.9|\n",
       "|W06000022 |2006-01-01T00:00:00/P3Y |Male   |            77.0|\n",
       "|W06000022 |2006-01-01T00:00:00/P3Y |Female |            81.5|\n",
       "|W06000015 |2004-01-01T00:00:00/P3Y |Male   |            78.1|\n",
       "|W06000015 |2004-01-01T00:00:00/P3Y |Female |            83.3|\n",
       "|W06000015 |2005-01-01T00:00:00/P3Y |Male   |            78.6|\n",
       "|W06000015 |2005-01-01T00:00:00/P3Y |Female |            83.7|\n",
       "|W06000015 |2006-01-01T00:00:00/P3Y |Male   |            78.7|\n",
       "|W06000015 |2006-01-01T00:00:00/P3Y |Female |            83.4|\n",
       "|W06000021 |2004-01-01T00:00:00/P3Y |Male   |            76.2|\n",
       "|W06000021 |2004-01-01T00:00:00/P3Y |Female |            81.3|\n",
       "|W06000021 |2005-01-01T00:00:00/P3Y |Male   |            76.5|\n",
       "|W06000021 |2005-01-01T00:00:00/P3Y |Female |            81.1|\n",
       "|W06000021 |2006-01-01T00:00:00/P3Y |Male   |            76.6|\n",
       "|W06000021 |2006-01-01T00:00:00/P3Y |Female |            81.7|\n",
       "|W06000024 |2004-01-01T00:00:00/P3Y |Male   |            75.5|\n",
       "|W06000024 |2004-01-01T00:00:00/P3Y |Female |            79.1|\n",
       "|W06000024 |2005-01-01T00:00:00/P3Y |Male   |            75.4|\n",
       "|W06000024 |2005-01-01T00:00:00/P3Y |Female |            79.4|\n",
       "|W06000024 |2006-01-01T00:00:00/P3Y |Male   |            74.9|\n",
       "|W06000024 |2006-01-01T00:00:00/P3Y |Female |            79.6|"
      ]
     },
     "metadata": {},
     "output_type": "display_data"
    }
   ],
   "source": [
    "library(csvwr)\n",
    "\n",
    "rootUrl <- \"https://raw.githubusercontent.com/gjhltn/PlatformDemoBinder/main/data/\"\n",
    "ds <- \"life-expectancy\"\n",
    "\n",
    "csvFile <- paste(ds, \".csv\", sep = \"\")\n",
    "jsonFile <- paste(ds, \".json\", sep = \"\")\n",
    "\n",
    "csvUrl <- paste(rootUrl, csvFile, sep = \"\")\n",
    "download.file(csvUrl,csvFile)\n",
    "\n",
    "jsonUrl <- paste(rootUrl, jsonFile, sep = \"\")\n",
    "download.file(jsonUrl,jsonFile)\n",
    "\n",
    "df <- read_csvw_dataframe(csvFile, jsonFile)\n",
    "knitr::kable(df)"
   ]
  }
 ],
 "metadata": {
  "kernelspec": {
   "display_name": "R",
   "language": "R",
   "name": "ir"
  },
  "language_info": {
   "codemirror_mode": "r",
   "file_extension": ".r",
   "mimetype": "text/x-r-source",
   "name": "R",
   "pygments_lexer": "r",
   "version": "4.3.2"
  }
 },
 "nbformat": 4,
 "nbformat_minor": 5
}
